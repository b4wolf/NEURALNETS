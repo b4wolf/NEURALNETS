{
  "nbformat": 4,
  "nbformat_minor": 0,
  "metadata": {
    "colab": {
      "provenance": [],
      "gpuType": "T4",
      "include_colab_link": true
    },
    "kernelspec": {
      "name": "python3",
      "display_name": "Python 3"
    },
    "language_info": {
      "name": "python"
    },
    "accelerator": "GPU"
  },
  "cells": [
    {
      "cell_type": "markdown",
      "metadata": {
        "id": "view-in-github",
        "colab_type": "text"
      },
      "source": [
        "<a href=\"https://colab.research.google.com/github/b4wolf/NEURALNETS/blob/development/model.ipynb\" target=\"_parent\"><img src=\"https://colab.research.google.com/assets/colab-badge.svg\" alt=\"Open In Colab\"/></a>"
      ]
    },
    {
      "cell_type": "markdown",
      "source": [
        "# Ignore everything above"
      ],
      "metadata": {
        "id": "0RWqPs3trDCX"
      }
    },
    {
      "cell_type": "code",
      "source": [
        "import pandas as pd\n",
        "import matplotlib.pyplot as plt\n",
        "import numpy as np\n",
        "import torch\n",
        "import torch.nn as nn\n",
        "import torch.nn.functional as F\n",
        "import torch.optim as optim\n",
        "import os\n",
        "from torch.utils.data import Dataset, DataLoader\n",
        "from google.colab import files\n",
        "torch.manual_seed(1)\n",
        "\n",
        "stations_data = []\n",
        "stations_train = []\n",
        "stations_test = []\n",
        "for filename in os.listdir('.'):\n",
        "  if '.csv' in filename:\n",
        "    pm25_df = pd.read_csv(filename)\n",
        "    pm25 = np.array(pm25_df[\"Value\"].values)\n",
        "    stations_data.append(pm25)\n",
        "\n",
        "    train_split = int(0.8 * len(pm25))\n",
        "    train_pm25, test_pm25 = pm25[:train_split], pm25[train_split:]\n",
        "    normalize = lambda x: (x - train_pm25.mean(0)) / train_pm25.std(0)\n",
        "    train_pm25_norm, test_pm25_norm = normalize(train_pm25), normalize(test_pm25)\n",
        "    stations_train.append(train_pm25_norm)\n",
        "    stations_test.append(test_pm25_norm)\n",
        "\n",
        "print(f\"Normalization Stats: mu={train_pm25.mean(0)}, std={train_pm25.std(0)}\")\n",
        "print(f\"Train: {len(train_pm25_norm)} samples.\")\n",
        "print(f\"Test: {len(test_pm25_norm)} samples.\")\n",
        "print(len(stations_data))\n",
        "\n",
        "class LSTM_Model(nn.Module):\n",
        "    def __init__(self, input_size):\n",
        "        super().__init__()\n",
        "        self.lstm = nn.LSTM(input_size=1, hidden_size=128, num_layers=3, batch_first=True)\n",
        "        self.linear = nn.Linear(in_features=128, out_features=input_size)\n",
        "    def forward(self, x):\n",
        "        x, _ = self.lstm(x)\n",
        "        x = self.linear(x)\n",
        "        return x\n",
        "\n",
        "\n",
        "# from https://machinelearningmastery.com/lstm-for-time-series-prediction-in-pytorch/\n",
        "def create_dataset(dataset, lookback):\n",
        "    \"\"\"Transform a time series into a prediction dataset\n",
        "\n",
        "    Args:\n",
        "        dataset: A numpy array of time series, first dimension is the time steps\n",
        "        lookback: Size of window for prediction\n",
        "    \"\"\"\n",
        "    X, y = np.array([]), np.array([])\n",
        "    for i in range(len(dataset)-lookback):\n",
        "        feature = dataset[i:i+lookback]\n",
        "        target = dataset[i+1:i+lookback+1]\n",
        "        X = np.append(X, feature)\n",
        "        y = np.append(y, target)\n",
        "    return torch.tensor(X, dtype=torch.float).unsqueeze(-1), torch.tensor(y, dtype=torch.float).unsqueeze(-1)\n",
        "\n",
        "\n",
        "import torch.optim as optim\n",
        "import torch.utils.data as data\n",
        "\n",
        "model = LSTM_Model(1)\n",
        "optimizer = optim.Adam(model.parameters())\n",
        "loss_fn = nn.MSELoss()\n",
        "epochs = 20\n",
        "lookback = 7\n",
        "\n",
        "def r2_score(predicted, target):\n",
        "    mean_target = torch.mean(target)\n",
        "    total_variance = torch.sum((target - mean_target)**2)\n",
        "    residual_variance = torch.sum((target - predicted)**2)\n",
        "    r_squared = 1 - (residual_variance / total_variance)\n",
        "\n",
        "    return r_squared.item()\n",
        "\n",
        "stat_train_predictions = []\n",
        "stat_test_predictions = []\n",
        "\n",
        "for i, stat in enumerate(stations_data):\n",
        "  X_train, y_train = create_dataset(stations_train[i], lookback)\n",
        "  X_test, y_test = create_dataset(stations_test[i], lookback)\n",
        "  loader = data.DataLoader(data.TensorDataset(X_train, y_train), shuffle=True, batch_size=8)\n",
        "\n",
        "  for epoch in range(epochs):\n",
        "    avg_train_loss = []\n",
        "    avg_train_r2 = []\n",
        "    avg_test_loss = []\n",
        "    avg_test_r2 = []\n",
        "\n",
        "    model.train()\n",
        "    for X_batch, y_batch in loader:\n",
        "        y_pred = model(X_batch)\n",
        "\n",
        "        loss = loss_fn(y_pred, y_batch)\n",
        "        r2 = r2_score(y_pred, y_batch)\n",
        "        avg_train_loss.append(loss.detach().numpy())\n",
        "        avg_train_r2.append(r2)\n",
        "\n",
        "        optimizer.zero_grad()\n",
        "        loss.backward()\n",
        "        optimizer.step()\n",
        "\n",
        "    model.eval()\n",
        "    with torch.no_grad():\n",
        "        y_pred = model(X_train)\n",
        "        train_rmse = np.sqrt(loss_fn(y_pred, y_train))\n",
        "        train_r2 = r2_score(y_pred, y_train)\n",
        "\n",
        "        y_pred = model(X_test)\n",
        "        test_rmse = np.sqrt(loss_fn(y_pred, y_test))\n",
        "        test_r2 = r2_score(y_pred, y_test)\n",
        "\n",
        "    print(\"Epoch %d: train RMSE %.4f, test RMSE %.4f, train R2 %.4f, test R2 %.4f\" % (epoch, train_rmse, test_rmse, train_r2, test_r2))\n",
        "  # final model predictions:\n",
        "  model.eval()\n",
        "  with torch.no_grad():\n",
        "      y_pred = model(X_train)\n",
        "      stat_train_predictions.append(y_pred)\n",
        "\n",
        "      y_pred = model(X_test)\n",
        "      stat_test_predictions.append(y_pred)"
      ],
      "metadata": {
        "id": "xXpjm4bWvF5d",
        "colab": {
          "base_uri": "https://localhost:8080/",
          "height": 506
        },
        "outputId": "c31ff718-047c-44f3-cdbc-f35d77be34f5"
      },
      "execution_count": 2,
      "outputs": [
        {
          "output_type": "stream",
          "name": "stdout",
          "text": [
            "Normalization Stats: mu=8.747417237442923, std=6.44787155215439\n",
            "Train: 7008 samples.\n",
            "Test: 1752 samples.\n",
            "17\n",
            "Epoch 0: train RMSE 0.2623, test RMSE 0.3424, train R2 0.9311, test R2 0.8382\n"
          ]
        },
        {
          "output_type": "error",
          "ename": "KeyboardInterrupt",
          "evalue": "ignored",
          "traceback": [
            "\u001b[0;31m---------------------------------------------------------------------------\u001b[0m",
            "\u001b[0;31mKeyboardInterrupt\u001b[0m                         Traceback (most recent call last)",
            "\u001b[0;32m<ipython-input-2-df4dcd294ea6>\u001b[0m in \u001b[0;36m<cell line: 82>\u001b[0;34m()\u001b[0m\n\u001b[1;32m    101\u001b[0m \u001b[0;34m\u001b[0m\u001b[0m\n\u001b[1;32m    102\u001b[0m         \u001b[0moptimizer\u001b[0m\u001b[0;34m.\u001b[0m\u001b[0mzero_grad\u001b[0m\u001b[0;34m(\u001b[0m\u001b[0;34m)\u001b[0m\u001b[0;34m\u001b[0m\u001b[0;34m\u001b[0m\u001b[0m\n\u001b[0;32m--> 103\u001b[0;31m         \u001b[0mloss\u001b[0m\u001b[0;34m.\u001b[0m\u001b[0mbackward\u001b[0m\u001b[0;34m(\u001b[0m\u001b[0;34m)\u001b[0m\u001b[0;34m\u001b[0m\u001b[0;34m\u001b[0m\u001b[0m\n\u001b[0m\u001b[1;32m    104\u001b[0m         \u001b[0moptimizer\u001b[0m\u001b[0;34m.\u001b[0m\u001b[0mstep\u001b[0m\u001b[0;34m(\u001b[0m\u001b[0;34m)\u001b[0m\u001b[0;34m\u001b[0m\u001b[0;34m\u001b[0m\u001b[0m\n\u001b[1;32m    105\u001b[0m \u001b[0;34m\u001b[0m\u001b[0m\n",
            "\u001b[0;32m/usr/local/lib/python3.10/dist-packages/torch/_tensor.py\u001b[0m in \u001b[0;36mbackward\u001b[0;34m(self, gradient, retain_graph, create_graph, inputs)\u001b[0m\n\u001b[1;32m    490\u001b[0m                 \u001b[0minputs\u001b[0m\u001b[0;34m=\u001b[0m\u001b[0minputs\u001b[0m\u001b[0;34m,\u001b[0m\u001b[0;34m\u001b[0m\u001b[0;34m\u001b[0m\u001b[0m\n\u001b[1;32m    491\u001b[0m             )\n\u001b[0;32m--> 492\u001b[0;31m         torch.autograd.backward(\n\u001b[0m\u001b[1;32m    493\u001b[0m             \u001b[0mself\u001b[0m\u001b[0;34m,\u001b[0m \u001b[0mgradient\u001b[0m\u001b[0;34m,\u001b[0m \u001b[0mretain_graph\u001b[0m\u001b[0;34m,\u001b[0m \u001b[0mcreate_graph\u001b[0m\u001b[0;34m,\u001b[0m \u001b[0minputs\u001b[0m\u001b[0;34m=\u001b[0m\u001b[0minputs\u001b[0m\u001b[0;34m\u001b[0m\u001b[0;34m\u001b[0m\u001b[0m\n\u001b[1;32m    494\u001b[0m         )\n",
            "\u001b[0;32m/usr/local/lib/python3.10/dist-packages/torch/autograd/__init__.py\u001b[0m in \u001b[0;36mbackward\u001b[0;34m(tensors, grad_tensors, retain_graph, create_graph, grad_variables, inputs)\u001b[0m\n\u001b[1;32m    249\u001b[0m     \u001b[0;31m# some Python versions print out the first line of a multi-line function\u001b[0m\u001b[0;34m\u001b[0m\u001b[0;34m\u001b[0m\u001b[0m\n\u001b[1;32m    250\u001b[0m     \u001b[0;31m# calls in the traceback and some print out the last line\u001b[0m\u001b[0;34m\u001b[0m\u001b[0;34m\u001b[0m\u001b[0m\n\u001b[0;32m--> 251\u001b[0;31m     Variable._execution_engine.run_backward(  # Calls into the C++ engine to run the backward pass\n\u001b[0m\u001b[1;32m    252\u001b[0m         \u001b[0mtensors\u001b[0m\u001b[0;34m,\u001b[0m\u001b[0;34m\u001b[0m\u001b[0;34m\u001b[0m\u001b[0m\n\u001b[1;32m    253\u001b[0m         \u001b[0mgrad_tensors_\u001b[0m\u001b[0;34m,\u001b[0m\u001b[0;34m\u001b[0m\u001b[0;34m\u001b[0m\u001b[0m\n",
            "\u001b[0;31mKeyboardInterrupt\u001b[0m: "
          ]
        }
      ]
    },
    {
      "cell_type": "code",
      "source": [
        "class LSTM_Model(nn.Module):\n",
        "    def __init__(self, input_size):\n",
        "        super().__init__()\n",
        "        self.lstm = nn.LSTM(input_size=1, hidden_size=128, num_layers=3, batch_first=True)\n",
        "        self.linear = nn.Linear(in_features=128, out_features=input_size)\n",
        "    def forward(self, x):\n",
        "        x, _ = self.lstm(x)\n",
        "        x = self.linear(x)\n",
        "        return x"
      ],
      "metadata": {
        "id": "WNW05UGWmV6M"
      },
      "execution_count": 17,
      "outputs": []
    },
    {
      "cell_type": "code",
      "source": [
        "# from https://machinelearningmastery.com/lstm-for-time-series-prediction-in-pytorch/\n",
        "def create_dataset(dataset, lookback):\n",
        "    \"\"\"Transform a time series into a prediction dataset\n",
        "\n",
        "    Args:\n",
        "        dataset: A numpy array of time series, first dimension is the time steps\n",
        "        lookback: Size of window for prediction\n",
        "    \"\"\"\n",
        "    X, y = np.array([]), np.array([])\n",
        "    for i in range(len(dataset)-lookback):\n",
        "        feature = dataset[i:i+lookback]\n",
        "        target = dataset[i+1:i+lookback+1]\n",
        "        X = np.append(X, feature)\n",
        "        y = np.append(y, target)\n",
        "    return torch.tensor(X, dtype=torch.float).unsqueeze(-1), torch.tensor(y, dtype=torch.float).unsqueeze(-1)"
      ],
      "metadata": {
        "id": "XhmcG_PlaYlw"
      },
      "execution_count": 13,
      "outputs": []
    },
    {
      "cell_type": "code",
      "source": [
        "import torch.optim as optim\n",
        "import torch.utils.data as data\n",
        "\n",
        "model = LSTM_Model(1)\n",
        "optimizer = optim.Adam(model.parameters())\n",
        "loss_fn = nn.MSELoss()\n",
        "epochs = 20\n",
        "lookback = 7\n",
        "\n",
        "def r2_score(predicted, target):\n",
        "    mean_target = torch.mean(target)\n",
        "    total_variance = torch.sum((target - mean_target)**2)\n",
        "    residual_variance = torch.sum((target - predicted)**2)\n",
        "    r_squared = 1 - (residual_variance / total_variance)\n",
        "\n",
        "    return r_squared.item()\n",
        "\n",
        "stat_train_predictions = []\n",
        "stat_test_predictions = []\n",
        "\n",
        "for i, stat in enumerate(stations_data):\n",
        "  X_train, y_train = create_dataset(stations_train[i], lookback)\n",
        "  X_test, y_test = create_dataset(stations_test[i], lookback)\n",
        "  loader = data.DataLoader(data.TensorDataset(X_train, y_train), shuffle=True, batch_size=8)\n",
        "\n",
        "  for epoch in range(epochs):\n",
        "    avg_train_loss = []\n",
        "    avg_train_r2 = []\n",
        "    avg_test_loss = []\n",
        "    avg_test_r2 = []\n",
        "\n",
        "    model.train()\n",
        "    for X_batch, y_batch in loader:\n",
        "        y_pred = model(X_batch)\n",
        "\n",
        "        loss = loss_fn(y_pred, y_batch)\n",
        "        r2 = r2_score(y_pred, y_batch)\n",
        "        avg_train_loss.append(loss.detach().numpy())\n",
        "        avg_train_r2.append(r2)\n",
        "\n",
        "        optimizer.zero_grad()\n",
        "        loss.backward()\n",
        "        optimizer.step()\n",
        "\n",
        "    model.eval()\n",
        "    with torch.no_grad():\n",
        "        y_pred = model(X_train)\n",
        "        train_rmse = np.sqrt(loss_fn(y_pred, y_train))\n",
        "        train_r2 = r2_score(y_pred, y_train)\n",
        "\n",
        "        y_pred = model(X_test)\n",
        "        test_rmse = np.sqrt(loss_fn(y_pred, y_test))\n",
        "        test_r2 = r2_score(y_pred, y_test)\n",
        "\n",
        "    print(\"Epoch %d: train RMSE %.4f, test RMSE %.4f, train R2 %.4f, test R2 %.4f\" % (epoch, train_rmse, test_rmse, train_r2, test_r2))\n",
        "  # final model predictions:\n",
        "  model.eval()\n",
        "  with torch.no_grad():\n",
        "      y_pred = model(X_train)\n",
        "      stat_train_predictions.append(y_pred)\n",
        "\n",
        "      y_pred = model(X_test)\n",
        "      stat_test_predictions.append(y_pred)\n"
      ],
      "metadata": {
        "id": "yY4xAnmbnlox",
        "colab": {
          "base_uri": "https://localhost:8080/",
          "height": 1000
        },
        "outputId": "7e05c75c-02e5-4c44-a3c2-18f9fefe1f0d"
      },
      "execution_count": 19,
      "outputs": [
        {
          "output_type": "stream",
          "name": "stdout",
          "text": [
            "Epoch 0: train RMSE 0.2859, test RMSE 0.3701, train R2 0.9181, test R2 0.8110\n",
            "Epoch 1: train RMSE 0.2846, test RMSE 0.3702, train R2 0.9188, test R2 0.8109\n",
            "Epoch 2: train RMSE 0.2644, test RMSE 0.3441, train R2 0.9300, test R2 0.8366\n",
            "Epoch 3: train RMSE 0.2928, test RMSE 0.3681, train R2 0.9141, test R2 0.8130\n",
            "Epoch 4: train RMSE 0.2513, test RMSE 0.3493, train R2 0.9367, test R2 0.8317\n",
            "Epoch 5: train RMSE 0.2654, test RMSE 0.3429, train R2 0.9294, test R2 0.8377\n",
            "Epoch 6: train RMSE 0.2549, test RMSE 0.3437, train R2 0.9349, test R2 0.8370\n",
            "Epoch 7: train RMSE 0.2554, test RMSE 0.3516, train R2 0.9346, test R2 0.8294\n",
            "Epoch 8: train RMSE 0.2586, test RMSE 0.3431, train R2 0.9330, test R2 0.8375\n",
            "Epoch 9: train RMSE 0.2542, test RMSE 0.3482, train R2 0.9353, test R2 0.8327\n",
            "Epoch 10: train RMSE 0.2650, test RMSE 0.3433, train R2 0.9297, test R2 0.8373\n",
            "Epoch 11: train RMSE 0.2601, test RMSE 0.3351, train R2 0.9322, test R2 0.8451\n",
            "Epoch 12: train RMSE 0.2563, test RMSE 0.3464, train R2 0.9342, test R2 0.8344\n",
            "Epoch 13: train RMSE 0.2635, test RMSE 0.3489, train R2 0.9304, test R2 0.8320\n",
            "Epoch 14: train RMSE 0.2579, test RMSE 0.3340, train R2 0.9334, test R2 0.8461\n",
            "Epoch 15: train RMSE 0.2523, test RMSE 0.3380, train R2 0.9362, test R2 0.8424\n",
            "Epoch 16: train RMSE 0.2543, test RMSE 0.3424, train R2 0.9352, test R2 0.8382\n",
            "Epoch 17: train RMSE 0.2549, test RMSE 0.3446, train R2 0.9349, test R2 0.8361\n",
            "Epoch 18: train RMSE 0.2618, test RMSE 0.3540, train R2 0.9313, test R2 0.8271\n",
            "Epoch 19: train RMSE 0.2594, test RMSE 0.3443, train R2 0.9326, test R2 0.8364\n",
            "Epoch 0: train RMSE 0.2738, test RMSE 0.3017, train R2 0.9249, test R2 0.8375\n",
            "Epoch 1: train RMSE 0.2747, test RMSE 0.2855, train R2 0.9244, test R2 0.8545\n",
            "Epoch 2: train RMSE 0.2699, test RMSE 0.2954, train R2 0.9270, test R2 0.8442\n",
            "Epoch 3: train RMSE 0.2737, test RMSE 0.2896, train R2 0.9249, test R2 0.8502\n",
            "Epoch 4: train RMSE 0.2753, test RMSE 0.2924, train R2 0.9240, test R2 0.8474\n",
            "Epoch 5: train RMSE 0.3004, test RMSE 0.3058, train R2 0.9096, test R2 0.8330\n",
            "Epoch 6: train RMSE 0.3927, test RMSE 0.2894, train R2 0.8454, test R2 0.8504\n",
            "Epoch 7: train RMSE 0.2870, test RMSE 0.2986, train R2 0.9175, test R2 0.8408\n",
            "Epoch 8: train RMSE 0.4504, test RMSE 0.3097, train R2 0.7967, test R2 0.8287\n",
            "Epoch 9: train RMSE 0.3276, test RMSE 0.2868, train R2 0.8925, test R2 0.8531\n",
            "Epoch 10: train RMSE 0.4107, test RMSE 0.2945, train R2 0.8310, test R2 0.8452\n",
            "Epoch 11: train RMSE 0.3649, test RMSE 0.2948, train R2 0.8666, test R2 0.8448\n",
            "Epoch 12: train RMSE 0.4577, test RMSE 0.2996, train R2 0.7901, test R2 0.8398\n",
            "Epoch 13: train RMSE 0.4398, test RMSE 0.2903, train R2 0.8062, test R2 0.8495\n",
            "Epoch 14: train RMSE 0.4426, test RMSE 0.3098, train R2 0.8037, test R2 0.8286\n",
            "Epoch 15: train RMSE 0.4045, test RMSE 0.2906, train R2 0.8361, test R2 0.8492\n",
            "Epoch 16: train RMSE 0.3855, test RMSE 0.2936, train R2 0.8511, test R2 0.8461\n",
            "Epoch 17: train RMSE 0.2731, test RMSE 0.2870, train R2 0.9253, test R2 0.8529\n",
            "Epoch 18: train RMSE 0.2600, test RMSE 0.2922, train R2 0.9323, test R2 0.8476\n",
            "Epoch 19: train RMSE 0.2626, test RMSE 0.2884, train R2 0.9309, test R2 0.8515\n",
            "Epoch 0: train RMSE 0.2486, test RMSE 0.4023, train R2 0.9378, test R2 0.8347\n",
            "Epoch 1: train RMSE 0.2477, test RMSE 0.4146, train R2 0.9383, test R2 0.8245\n",
            "Epoch 2: train RMSE 0.2460, test RMSE 0.4149, train R2 0.9391, test R2 0.8242\n",
            "Epoch 3: train RMSE 0.2496, test RMSE 0.4200, train R2 0.9373, test R2 0.8198\n"
          ]
        },
        {
          "output_type": "error",
          "ename": "KeyboardInterrupt",
          "evalue": "ignored",
          "traceback": [
            "\u001b[0;31m---------------------------------------------------------------------------\u001b[0m",
            "\u001b[0;31mKeyboardInterrupt\u001b[0m                         Traceback (most recent call last)",
            "\u001b[0;32m<ipython-input-19-6c4a6d38b1f9>\u001b[0m in \u001b[0;36m<cell line: 21>\u001b[0;34m()\u001b[0m\n\u001b[1;32m     32\u001b[0m     \u001b[0mmodel\u001b[0m\u001b[0;34m.\u001b[0m\u001b[0mtrain\u001b[0m\u001b[0;34m(\u001b[0m\u001b[0;34m)\u001b[0m\u001b[0;34m\u001b[0m\u001b[0;34m\u001b[0m\u001b[0m\n\u001b[1;32m     33\u001b[0m     \u001b[0;32mfor\u001b[0m \u001b[0mX_batch\u001b[0m\u001b[0;34m,\u001b[0m \u001b[0my_batch\u001b[0m \u001b[0;32min\u001b[0m \u001b[0mloader\u001b[0m\u001b[0;34m:\u001b[0m\u001b[0;34m\u001b[0m\u001b[0;34m\u001b[0m\u001b[0m\n\u001b[0;32m---> 34\u001b[0;31m         \u001b[0my_pred\u001b[0m \u001b[0;34m=\u001b[0m \u001b[0mmodel\u001b[0m\u001b[0;34m(\u001b[0m\u001b[0mX_batch\u001b[0m\u001b[0;34m)\u001b[0m\u001b[0;34m\u001b[0m\u001b[0;34m\u001b[0m\u001b[0m\n\u001b[0m\u001b[1;32m     35\u001b[0m \u001b[0;34m\u001b[0m\u001b[0m\n\u001b[1;32m     36\u001b[0m         \u001b[0mloss\u001b[0m \u001b[0;34m=\u001b[0m \u001b[0mloss_fn\u001b[0m\u001b[0;34m(\u001b[0m\u001b[0my_pred\u001b[0m\u001b[0;34m,\u001b[0m \u001b[0my_batch\u001b[0m\u001b[0;34m)\u001b[0m\u001b[0;34m\u001b[0m\u001b[0;34m\u001b[0m\u001b[0m\n",
            "\u001b[0;32m/usr/local/lib/python3.10/dist-packages/torch/nn/modules/module.py\u001b[0m in \u001b[0;36m_wrapped_call_impl\u001b[0;34m(self, *args, **kwargs)\u001b[0m\n\u001b[1;32m   1516\u001b[0m             \u001b[0;32mreturn\u001b[0m \u001b[0mself\u001b[0m\u001b[0;34m.\u001b[0m\u001b[0m_compiled_call_impl\u001b[0m\u001b[0;34m(\u001b[0m\u001b[0;34m*\u001b[0m\u001b[0margs\u001b[0m\u001b[0;34m,\u001b[0m \u001b[0;34m**\u001b[0m\u001b[0mkwargs\u001b[0m\u001b[0;34m)\u001b[0m  \u001b[0;31m# type: ignore[misc]\u001b[0m\u001b[0;34m\u001b[0m\u001b[0;34m\u001b[0m\u001b[0m\n\u001b[1;32m   1517\u001b[0m         \u001b[0;32melse\u001b[0m\u001b[0;34m:\u001b[0m\u001b[0;34m\u001b[0m\u001b[0;34m\u001b[0m\u001b[0m\n\u001b[0;32m-> 1518\u001b[0;31m             \u001b[0;32mreturn\u001b[0m \u001b[0mself\u001b[0m\u001b[0;34m.\u001b[0m\u001b[0m_call_impl\u001b[0m\u001b[0;34m(\u001b[0m\u001b[0;34m*\u001b[0m\u001b[0margs\u001b[0m\u001b[0;34m,\u001b[0m \u001b[0;34m**\u001b[0m\u001b[0mkwargs\u001b[0m\u001b[0;34m)\u001b[0m\u001b[0;34m\u001b[0m\u001b[0;34m\u001b[0m\u001b[0m\n\u001b[0m\u001b[1;32m   1519\u001b[0m \u001b[0;34m\u001b[0m\u001b[0m\n\u001b[1;32m   1520\u001b[0m     \u001b[0;32mdef\u001b[0m \u001b[0m_call_impl\u001b[0m\u001b[0;34m(\u001b[0m\u001b[0mself\u001b[0m\u001b[0;34m,\u001b[0m \u001b[0;34m*\u001b[0m\u001b[0margs\u001b[0m\u001b[0;34m,\u001b[0m \u001b[0;34m**\u001b[0m\u001b[0mkwargs\u001b[0m\u001b[0;34m)\u001b[0m\u001b[0;34m:\u001b[0m\u001b[0;34m\u001b[0m\u001b[0;34m\u001b[0m\u001b[0m\n",
            "\u001b[0;32m/usr/local/lib/python3.10/dist-packages/torch/nn/modules/module.py\u001b[0m in \u001b[0;36m_call_impl\u001b[0;34m(self, *args, **kwargs)\u001b[0m\n\u001b[1;32m   1525\u001b[0m                 \u001b[0;32mor\u001b[0m \u001b[0m_global_backward_pre_hooks\u001b[0m \u001b[0;32mor\u001b[0m \u001b[0m_global_backward_hooks\u001b[0m\u001b[0;34m\u001b[0m\u001b[0;34m\u001b[0m\u001b[0m\n\u001b[1;32m   1526\u001b[0m                 or _global_forward_hooks or _global_forward_pre_hooks):\n\u001b[0;32m-> 1527\u001b[0;31m             \u001b[0;32mreturn\u001b[0m \u001b[0mforward_call\u001b[0m\u001b[0;34m(\u001b[0m\u001b[0;34m*\u001b[0m\u001b[0margs\u001b[0m\u001b[0;34m,\u001b[0m \u001b[0;34m**\u001b[0m\u001b[0mkwargs\u001b[0m\u001b[0;34m)\u001b[0m\u001b[0;34m\u001b[0m\u001b[0;34m\u001b[0m\u001b[0m\n\u001b[0m\u001b[1;32m   1528\u001b[0m \u001b[0;34m\u001b[0m\u001b[0m\n\u001b[1;32m   1529\u001b[0m         \u001b[0;32mtry\u001b[0m\u001b[0;34m:\u001b[0m\u001b[0;34m\u001b[0m\u001b[0;34m\u001b[0m\u001b[0m\n",
            "\u001b[0;32m<ipython-input-17-9cee422dcf98>\u001b[0m in \u001b[0;36mforward\u001b[0;34m(self, x)\u001b[0m\n\u001b[1;32m      5\u001b[0m         \u001b[0mself\u001b[0m\u001b[0;34m.\u001b[0m\u001b[0mlinear\u001b[0m \u001b[0;34m=\u001b[0m \u001b[0mnn\u001b[0m\u001b[0;34m.\u001b[0m\u001b[0mLinear\u001b[0m\u001b[0;34m(\u001b[0m\u001b[0min_features\u001b[0m\u001b[0;34m=\u001b[0m\u001b[0;36m128\u001b[0m\u001b[0;34m,\u001b[0m \u001b[0mout_features\u001b[0m\u001b[0;34m=\u001b[0m\u001b[0minput_size\u001b[0m\u001b[0;34m)\u001b[0m\u001b[0;34m\u001b[0m\u001b[0;34m\u001b[0m\u001b[0m\n\u001b[1;32m      6\u001b[0m     \u001b[0;32mdef\u001b[0m \u001b[0mforward\u001b[0m\u001b[0;34m(\u001b[0m\u001b[0mself\u001b[0m\u001b[0;34m,\u001b[0m \u001b[0mx\u001b[0m\u001b[0;34m)\u001b[0m\u001b[0;34m:\u001b[0m\u001b[0;34m\u001b[0m\u001b[0;34m\u001b[0m\u001b[0m\n\u001b[0;32m----> 7\u001b[0;31m         \u001b[0mx\u001b[0m\u001b[0;34m,\u001b[0m \u001b[0m_\u001b[0m \u001b[0;34m=\u001b[0m \u001b[0mself\u001b[0m\u001b[0;34m.\u001b[0m\u001b[0mlstm\u001b[0m\u001b[0;34m(\u001b[0m\u001b[0mx\u001b[0m\u001b[0;34m)\u001b[0m\u001b[0;34m\u001b[0m\u001b[0;34m\u001b[0m\u001b[0m\n\u001b[0m\u001b[1;32m      8\u001b[0m         \u001b[0mx\u001b[0m \u001b[0;34m=\u001b[0m \u001b[0mself\u001b[0m\u001b[0;34m.\u001b[0m\u001b[0mlinear\u001b[0m\u001b[0;34m(\u001b[0m\u001b[0mx\u001b[0m\u001b[0;34m)\u001b[0m\u001b[0;34m\u001b[0m\u001b[0;34m\u001b[0m\u001b[0m\n\u001b[1;32m      9\u001b[0m         \u001b[0;32mreturn\u001b[0m \u001b[0mx\u001b[0m\u001b[0;34m\u001b[0m\u001b[0;34m\u001b[0m\u001b[0m\n",
            "\u001b[0;32m/usr/local/lib/python3.10/dist-packages/torch/nn/modules/module.py\u001b[0m in \u001b[0;36m_wrapped_call_impl\u001b[0;34m(self, *args, **kwargs)\u001b[0m\n\u001b[1;32m   1516\u001b[0m             \u001b[0;32mreturn\u001b[0m \u001b[0mself\u001b[0m\u001b[0;34m.\u001b[0m\u001b[0m_compiled_call_impl\u001b[0m\u001b[0;34m(\u001b[0m\u001b[0;34m*\u001b[0m\u001b[0margs\u001b[0m\u001b[0;34m,\u001b[0m \u001b[0;34m**\u001b[0m\u001b[0mkwargs\u001b[0m\u001b[0;34m)\u001b[0m  \u001b[0;31m# type: ignore[misc]\u001b[0m\u001b[0;34m\u001b[0m\u001b[0;34m\u001b[0m\u001b[0m\n\u001b[1;32m   1517\u001b[0m         \u001b[0;32melse\u001b[0m\u001b[0;34m:\u001b[0m\u001b[0;34m\u001b[0m\u001b[0;34m\u001b[0m\u001b[0m\n\u001b[0;32m-> 1518\u001b[0;31m             \u001b[0;32mreturn\u001b[0m \u001b[0mself\u001b[0m\u001b[0;34m.\u001b[0m\u001b[0m_call_impl\u001b[0m\u001b[0;34m(\u001b[0m\u001b[0;34m*\u001b[0m\u001b[0margs\u001b[0m\u001b[0;34m,\u001b[0m \u001b[0;34m**\u001b[0m\u001b[0mkwargs\u001b[0m\u001b[0;34m)\u001b[0m\u001b[0;34m\u001b[0m\u001b[0;34m\u001b[0m\u001b[0m\n\u001b[0m\u001b[1;32m   1519\u001b[0m \u001b[0;34m\u001b[0m\u001b[0m\n\u001b[1;32m   1520\u001b[0m     \u001b[0;32mdef\u001b[0m \u001b[0m_call_impl\u001b[0m\u001b[0;34m(\u001b[0m\u001b[0mself\u001b[0m\u001b[0;34m,\u001b[0m \u001b[0;34m*\u001b[0m\u001b[0margs\u001b[0m\u001b[0;34m,\u001b[0m \u001b[0;34m**\u001b[0m\u001b[0mkwargs\u001b[0m\u001b[0;34m)\u001b[0m\u001b[0;34m:\u001b[0m\u001b[0;34m\u001b[0m\u001b[0;34m\u001b[0m\u001b[0m\n",
            "\u001b[0;32m/usr/local/lib/python3.10/dist-packages/torch/nn/modules/module.py\u001b[0m in \u001b[0;36m_call_impl\u001b[0;34m(self, *args, **kwargs)\u001b[0m\n\u001b[1;32m   1525\u001b[0m                 \u001b[0;32mor\u001b[0m \u001b[0m_global_backward_pre_hooks\u001b[0m \u001b[0;32mor\u001b[0m \u001b[0m_global_backward_hooks\u001b[0m\u001b[0;34m\u001b[0m\u001b[0;34m\u001b[0m\u001b[0m\n\u001b[1;32m   1526\u001b[0m                 or _global_forward_hooks or _global_forward_pre_hooks):\n\u001b[0;32m-> 1527\u001b[0;31m             \u001b[0;32mreturn\u001b[0m \u001b[0mforward_call\u001b[0m\u001b[0;34m(\u001b[0m\u001b[0;34m*\u001b[0m\u001b[0margs\u001b[0m\u001b[0;34m,\u001b[0m \u001b[0;34m**\u001b[0m\u001b[0mkwargs\u001b[0m\u001b[0;34m)\u001b[0m\u001b[0;34m\u001b[0m\u001b[0;34m\u001b[0m\u001b[0m\n\u001b[0m\u001b[1;32m   1528\u001b[0m \u001b[0;34m\u001b[0m\u001b[0m\n\u001b[1;32m   1529\u001b[0m         \u001b[0;32mtry\u001b[0m\u001b[0;34m:\u001b[0m\u001b[0;34m\u001b[0m\u001b[0;34m\u001b[0m\u001b[0m\n",
            "\u001b[0;32m/usr/local/lib/python3.10/dist-packages/torch/nn/modules/rnn.py\u001b[0m in \u001b[0;36mforward\u001b[0;34m(self, input, hx)\u001b[0m\n\u001b[1;32m    877\u001b[0m \u001b[0;34m\u001b[0m\u001b[0m\n\u001b[1;32m    878\u001b[0m         \u001b[0;32mif\u001b[0m \u001b[0mbatch_sizes\u001b[0m \u001b[0;32mis\u001b[0m \u001b[0;32mNone\u001b[0m\u001b[0;34m:\u001b[0m\u001b[0;34m\u001b[0m\u001b[0;34m\u001b[0m\u001b[0m\n\u001b[0;32m--> 879\u001b[0;31m             result = _VF.lstm(input, hx, self._flat_weights, self.bias, self.num_layers,\n\u001b[0m\u001b[1;32m    880\u001b[0m                               self.dropout, self.training, self.bidirectional, self.batch_first)\n\u001b[1;32m    881\u001b[0m         \u001b[0;32melse\u001b[0m\u001b[0;34m:\u001b[0m\u001b[0;34m\u001b[0m\u001b[0;34m\u001b[0m\u001b[0m\n",
            "\u001b[0;31mKeyboardInterrupt\u001b[0m: "
          ]
        }
      ]
    },
    {
      "cell_type": "code",
      "source": [
        "plt.title(\"PM 2.5 RMSE Loss Per Epoch\")\n",
        "plt.plot(pm25_losses, label=\"pm25 loss\")\n",
        "plt.show()\n",
        "plt.title(\"PM 10 RMSE Loss Per Epoch\")\n",
        "plt.plot(pm10_losses, label=\"pm10 loss\")\n",
        "plt.show()\n",
        "plt.title(\"SO2 RMSE Loss Per Epoch\")\n",
        "plt.plot(so2_losses, label=\"so2 loss\")\n",
        "plt.show()"
      ],
      "metadata": {
        "id": "rsh52X-8xpUN",
        "colab": {
          "base_uri": "https://localhost:8080/",
          "height": 1000
        },
        "outputId": "57129544-355a-4714-e0ef-377a3840cf85"
      },
      "execution_count": null,
      "outputs": [
        {
          "output_type": "display_data",
          "data": {
            "text/plain": [
              "<Figure size 640x480 with 1 Axes>"
            ],
            "image/png": "[encoded data removed]"
          },
          "metadata": {}
        },
        {
          "output_type": "error",
          "ename": "NameError",
          "evalue": "ignored",
          "traceback": [
            "\u001b[0;31m---------------------------------------------------------------------------\u001b[0m",
            "\u001b[0;31mNameError\u001b[0m                                 Traceback (most recent call last)",
            "\u001b[0;32m<ipython-input-12-9578b0bafe09>\u001b[0m in \u001b[0;36m<cell line: 5>\u001b[0;34m()\u001b[0m\n\u001b[1;32m      3\u001b[0m \u001b[0mplt\u001b[0m\u001b[0;34m.\u001b[0m\u001b[0mshow\u001b[0m\u001b[0;34m(\u001b[0m\u001b[0;34m)\u001b[0m\u001b[0;34m\u001b[0m\u001b[0;34m\u001b[0m\u001b[0m\n\u001b[1;32m      4\u001b[0m \u001b[0mplt\u001b[0m\u001b[0;34m.\u001b[0m\u001b[0mtitle\u001b[0m\u001b[0;34m(\u001b[0m\u001b[0;34m\"PM 10 RMSE Loss Per Epoch\"\u001b[0m\u001b[0;34m)\u001b[0m\u001b[0;34m\u001b[0m\u001b[0;34m\u001b[0m\u001b[0m\n\u001b[0;32m----> 5\u001b[0;31m \u001b[0mplt\u001b[0m\u001b[0;34m.\u001b[0m\u001b[0mplot\u001b[0m\u001b[0;34m(\u001b[0m\u001b[0mpm10_losses\u001b[0m\u001b[0;34m,\u001b[0m \u001b[0mlabel\u001b[0m\u001b[0;34m=\u001b[0m\u001b[0;34m\"pm10 loss\"\u001b[0m\u001b[0;34m)\u001b[0m\u001b[0;34m\u001b[0m\u001b[0;34m\u001b[0m\u001b[0m\n\u001b[0m\u001b[1;32m      6\u001b[0m \u001b[0mplt\u001b[0m\u001b[0;34m.\u001b[0m\u001b[0mshow\u001b[0m\u001b[0;34m(\u001b[0m\u001b[0;34m)\u001b[0m\u001b[0;34m\u001b[0m\u001b[0;34m\u001b[0m\u001b[0m\n\u001b[1;32m      7\u001b[0m \u001b[0mplt\u001b[0m\u001b[0;34m.\u001b[0m\u001b[0mtitle\u001b[0m\u001b[0;34m(\u001b[0m\u001b[0;34m\"SO2 RMSE Loss Per Epoch\"\u001b[0m\u001b[0;34m)\u001b[0m\u001b[0;34m\u001b[0m\u001b[0;34m\u001b[0m\u001b[0m\n",
            "\u001b[0;31mNameError\u001b[0m: name 'pm10_losses' is not defined"
          ]
        },
        {
          "output_type": "display_data",
          "data": {
            "text/plain": [
              "<Figure size 640x480 with 1 Axes>"
            ],
            "image/png": "[encoded data removed]"
          },
          "metadata": {}
        }
      ]
    },
    {
      "cell_type": "code",
      "source": [
        "def plot(model, timeseries, train_predictions, test_predictions):\n",
        "  with torch.no_grad():\n",
        "      # shift train predictions for plotting\n",
        "      train_plot = np.ones_like(timeseries[:,0]) * np.nan\n",
        "      y_pred = model(X_train)\n",
        "      y_pred = y_pred[:, -1, 0]\n",
        "      train_plot[lookback:len(train_predictions)] = y_pred\n",
        "      # shift test predictions for plotting\n",
        "      y_pred = model(X_test)\n",
        "      y_pred = y_pred[:, -1, 0]\n",
        "      test_plot = np.ones_like(timeseries[:,0]) * np.nan\n",
        "      test_plot[train_size+lookback:len(timeseries[:,0])] = y_pred\n",
        "  # plot\n",
        "  plt.plot(timeseries[:,0], c='b')\n",
        "  plt.show()\n",
        "  plt.plot(train_plot, c='r')\n",
        "  plt.plot(test_plot, c='g')\n",
        "  #plt.xlim(7250, 7750)\n",
        "  plt.show()"
      ],
      "metadata": {
        "id": "wue_YVujhDn_"
      },
      "execution_count": 22,
      "outputs": []
    }
  ]
}