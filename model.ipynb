{
  "nbformat": 4,
  "nbformat_minor": 0,
  "metadata": {
    "colab": {
      "provenance": [],
      "authorship_tag": "ABX9TyNwIIaiVpn1qXnSBkyKe5Uv",
      "include_colab_link": true
    },
    "kernelspec": {
      "name": "python3",
      "display_name": "Python 3"
    },
    "language_info": {
      "name": "python"
    }
  },
  "cells": [
    {
      "cell_type": "markdown",
      "metadata": {
        "id": "view-in-github",
        "colab_type": "text"
      },
      "source": [
        "<a href=\"https://colab.research.google.com/github/b4wolf/NEURALNETS/blob/development/model.ipynb\" target=\"_parent\"><img src=\"https://colab.research.google.com/assets/colab-badge.svg\" alt=\"Open In Colab\"/></a>"
      ]
    },
    {
      "cell_type": "code",
      "source": [
        "import pandas as pd\n",
        "import matplotlib.pyplot as plt\n",
        "from sklearn.model_selection import train_test_split\n",
        "import numpy as np\n",
        "from sklearn.impute import SimpleImputer"
      ],
      "metadata": {
        "id": "TWTpvfvPnR5S"
      },
      "execution_count": 3,
      "outputs": []
    },
    {
      "cell_type": "code",
      "execution_count": 4,
      "metadata": {
        "colab": {
          "base_uri": "https://localhost:8080/"
        },
        "id": "dP6NsOHgnGhg",
        "outputId": "9804f5a9-2b5e-4399-b779-b532554adcd9"
      },
      "outputs": [
        {
          "output_type": "execute_result",
          "data": {
            "text/plain": [
              "<torch._C.Generator at 0x7b33c80f8070>"
            ]
          },
          "metadata": {},
          "execution_count": 4
        }
      ],
      "source": [
        "import torch\n",
        "import torch.nn as nn\n",
        "import torch.nn.functional as F\n",
        "import torch.optim as optim\n",
        "\n",
        "torch.manual_seed(1)"
      ]
    },
    {
      "cell_type": "markdown",
      "source": [
        "# Ignore everything above"
      ],
      "metadata": {
        "id": "0RWqPs3trDCX"
      }
    },
    {
      "cell_type": "code",
      "source": [
        "pm10_df = pd.read_csv(\"/content/cleaned_MKE_2020_pm10.csv\")\n",
        "pm25_df = pd.read_csv(\"/content/split_0_8765.csv\")\n",
        "so2_df = pd.read_csv(\"/content/cleaned_MKE_2020_so2.csv\")\n",
        "\n",
        "pm25_df['Datetime'] = pd.to_datetime(pm25_df['Date Local'] + ' ' + pm25_df['Time Local'])\n",
        "pm25_df = pm25_df[['Datetime', 'Sample Measurement']]\n",
        "pm10_df['Datetime'] = pd.to_datetime(pm10_df['Date Local'] + ' ' + pm10_df['Time Local'])\n",
        "pm10_df = pm10_df[['Datetime', 'Sample Measurement']]\n",
        "so2_df['Datetime'] = pd.to_datetime(so2_df['Date Local'] + ' ' + so2_df['Time Local'])\n",
        "so2_df = so2_df[['Datetime', 'Sample Measurement']]\n",
        "\n",
        "\n",
        "imp = SimpleImputer(strategy=\"most_frequent\")\n",
        "def infill(df1):\n",
        "  df = df1.set_index('Datetime')\n",
        "\n",
        "  # Create complete hourly range\n",
        "  full_range = pd.date_range(start=df.index.min(), end=df.index.max(), freq='H')\n",
        "  return df.reindex(full_range)\n",
        "\n",
        "pm10_df = infill(pm10_df)\n",
        "pm10_df = imp.fit_transform(pm10_df)\n",
        "pm25_df = infill(pm25_df)\n",
        "pm25_df = imp.fit_transform(pm25_df)\n",
        "so2_df  = infill(so2_df)\n",
        "so2_df  = imp.fit_transform(so2_df)\n",
        "\n",
        "\n",
        "print(pm10_df.shape[0])\n",
        "print(pm25_df.shape[0])\n",
        "print(so2_df.shape[0])"
      ],
      "metadata": {
        "colab": {
          "base_uri": "https://localhost:8080/"
        },
        "id": "xXpjm4bWvF5d",
        "outputId": "8710effe-0a8d-4898-cb22-36b4abfa118f"
      },
      "execution_count": 24,
      "outputs": [
        {
          "output_type": "stream",
          "name": "stdout",
          "text": [
            "8784\n",
            "8784\n",
            "8784\n"
          ]
        }
      ]
    },
    {
      "cell_type": "code",
      "source": [
        "so2_df"
      ],
      "metadata": {
        "colab": {
          "base_uri": "https://localhost:8080/"
        },
        "id": "Q9ySB-2bLnHV",
        "outputId": "a55f3632-611e-4196-f406-ac2c37c81f00"
      },
      "execution_count": 26,
      "outputs": [
        {
          "output_type": "execute_result",
          "data": {
            "text/plain": [
              "array([[-0.2],\n",
              "       [-0.2],\n",
              "       [ 0.2],\n",
              "       ...,\n",
              "       [ 0.5],\n",
              "       [ 0.8],\n",
              "       [ 0.6]])"
            ]
          },
          "metadata": {},
          "execution_count": 26
        }
      ]
    },
    {
      "cell_type": "code",
      "source": [
        "# from https://machinelearningmastery.com/lstm-for-time-series-prediction-in-pytorch/\n",
        "# Creates a series of lookback windows to be used for training and predicting window t+1\n",
        "def create_dataset(dataset, lookback):\n",
        "    \"\"\"Transform a time series into a prediction dataset\n",
        "\n",
        "    Args:\n",
        "        dataset: A numpy array of time series, first dimension is the time steps\n",
        "        lookback: Size of window for prediction\n",
        "    \"\"\"\n",
        "    X, y = [], []\n",
        "    for i in range(len(dataset)-lookback):\n",
        "        feature = dataset[i:i+lookback]\n",
        "        target = dataset[i+1:i+lookback+1]\n",
        "        X.append(feature)\n",
        "        y.append(target)\n",
        "    return torch.tensor(X), torch.tensor(y)"
      ],
      "metadata": {
        "id": "Ga5tYJVZipJs"
      },
      "execution_count": 35,
      "outputs": []
    },
    {
      "cell_type": "code",
      "source": [
        "\n",
        "timeseries = np.concatenate((pm25_df, pm10_df, so2_df), axis=1).astype('float32')\n",
        "train_size = int(len(timeseries) * 0.75)\n",
        "test_size = len(timeseries) - train_size\n",
        "train, test = timeseries[:train_size], timeseries[train_size:]\n",
        "train.shape, test.shape"
      ],
      "metadata": {
        "colab": {
          "base_uri": "https://localhost:8080/"
        },
        "id": "R2oSlUOmb7hB",
        "outputId": "582c29f7-1bce-4314-aaf8-5def58a7c03c"
      },
      "execution_count": 42,
      "outputs": [
        {
          "output_type": "execute_result",
          "data": {
            "text/plain": [
              "((6588, 3), (2196, 3))"
            ]
          },
          "metadata": {},
          "execution_count": 42
        }
      ]
    },
    {
      "cell_type": "code",
      "source": [
        "plt.plot(timeseries)"
      ],
      "metadata": {
        "id": "0werIWNMquNH",
        "colab": {
          "base_uri": "https://localhost:8080/",
          "height": 465
        },
        "outputId": "d6bc97b3-9ab1-448b-9342-fa21bf88f09c"
      },
      "execution_count": 37,
      "outputs": [
        {
          "output_type": "execute_result",
          "data": {
            "text/plain": [
              "[<matplotlib.lines.Line2D at 0x7b32f1886f80>,\n",
              " <matplotlib.lines.Line2D at 0x7b32f18877f0>]"
            ]
          },
          "metadata": {},
          "execution_count": 37
        },
        {
          "output_type": "display_data",
          "data": {
            "text/plain": [
              "<Figure size 640x480 with 1 Axes>"
            ],
            "image/png": "[encoded data removed]"
          },
          "metadata": {}
        }
      ]
    },
    {
      "cell_type": "code",
      "source": [
        "lookback = 7\n",
        "X_train, y_train = create_dataset(train, lookback=lookback)\n",
        "X_test, y_test = create_dataset(test, lookback=lookback)\n",
        "print(X_train.shape, y_train.shape)\n",
        "print(X_test.shape, y_test.shape)"
      ],
      "metadata": {
        "id": "Qp7_yk99mGIV",
        "colab": {
          "base_uri": "https://localhost:8080/"
        },
        "outputId": "b44d6b48-d8ff-428d-eb21-454ae8a482cb"
      },
      "execution_count": 43,
      "outputs": [
        {
          "output_type": "stream",
          "name": "stdout",
          "text": [
            "torch.Size([6581, 7, 3]) torch.Size([6581, 7, 3])\n",
            "torch.Size([2189, 7, 3]) torch.Size([2189, 7, 3])\n"
          ]
        }
      ]
    },
    {
      "cell_type": "code",
      "source": [
        "class LSTM_Model(nn.Module):\n",
        "    def __init__(self):\n",
        "        super().__init__()\n",
        "        self.lstm = nn.LSTM(input_size=3, hidden_size=100, num_layers=1, batch_first=True)\n",
        "        self.linear = nn.Linear(100, 3)\n",
        "    def forward(self, x):\n",
        "        x, _ = self.lstm(x)\n",
        "        x = self.linear(x)\n",
        "        return x"
      ],
      "metadata": {
        "id": "WNW05UGWmV6M"
      },
      "execution_count": 44,
      "outputs": []
    },
    {
      "cell_type": "code",
      "source": [
        "import torch.optim as optim\n",
        "import torch.utils.data as data\n",
        "\n",
        "model = LSTM_Model()\n",
        "optimizer = optim.Adam(model.parameters())\n",
        "loss_fn = nn.MSELoss()\n",
        "loader = data.DataLoader(data.TensorDataset(X_train, y_train), shuffle=True, batch_size=8)\n",
        "\n",
        "n_epochs = 100\n",
        "for epoch in range(n_epochs):\n",
        "    model.train()\n",
        "    for X_batch, y_batch in loader:\n",
        "        y_pred = model(X_batch)\n",
        "        loss = loss_fn(y_pred, y_batch)\n",
        "        optimizer.zero_grad()\n",
        "        loss.backward()\n",
        "        optimizer.step()\n",
        "    # Validation\n",
        "    model.eval()\n",
        "    with torch.no_grad():\n",
        "        y_pred = model(X_train)\n",
        "        train_rmse = np.sqrt(loss_fn(y_pred, y_train))\n",
        "\n",
        "        y_pred = model(X_test)\n",
        "        test_rmse = np.sqrt(loss_fn(y_pred, y_test))\n",
        "    print(\"Epoch %d: train RMSE %.4f, test RMSE %.4f\" % (epoch, train_rmse, test_rmse))"
      ],
      "metadata": {
        "id": "yY4xAnmbnlox",
        "colab": {
          "base_uri": "https://localhost:8080/",
          "height": 1000
        },
        "outputId": "2898d854-fff3-46a1-861e-7de2e6e7c4a9"
      },
      "execution_count": 45,
      "outputs": [
        {
          "output_type": "stream",
          "name": "stdout",
          "text": [
            "Epoch 0: train RMSE 2.9815, test RMSE 5.3281\n",
            "Epoch 1: train RMSE 2.6984, test RMSE 4.6589\n",
            "Epoch 2: train RMSE 2.5281, test RMSE 4.1365\n",
            "Epoch 3: train RMSE 2.4241, test RMSE 3.9572\n",
            "Epoch 4: train RMSE 2.3716, test RMSE 3.8642\n",
            "Epoch 5: train RMSE 2.3089, test RMSE 3.7316\n",
            "Epoch 6: train RMSE 2.2780, test RMSE 3.8493\n",
            "Epoch 7: train RMSE 2.2388, test RMSE 3.6614\n",
            "Epoch 8: train RMSE 2.2317, test RMSE 3.8247\n",
            "Epoch 9: train RMSE 2.1853, test RMSE 3.6594\n",
            "Epoch 10: train RMSE 2.1499, test RMSE 3.7827\n",
            "Epoch 11: train RMSE 2.1268, test RMSE 3.7005\n",
            "Epoch 12: train RMSE 2.1063, test RMSE 3.7015\n",
            "Epoch 13: train RMSE 2.0791, test RMSE 3.7421\n",
            "Epoch 14: train RMSE 2.1005, test RMSE 3.8932\n",
            "Epoch 15: train RMSE 2.0560, test RMSE 3.6560\n",
            "Epoch 16: train RMSE 2.0614, test RMSE 3.6438\n",
            "Epoch 17: train RMSE 2.0650, test RMSE 3.8615\n",
            "Epoch 18: train RMSE 2.0237, test RMSE 3.6945\n",
            "Epoch 19: train RMSE 2.0057, test RMSE 3.7826\n",
            "Epoch 20: train RMSE 2.0047, test RMSE 3.6742\n",
            "Epoch 21: train RMSE 1.9859, test RMSE 3.7278\n",
            "Epoch 22: train RMSE 1.9948, test RMSE 3.8003\n",
            "Epoch 23: train RMSE 2.0824, test RMSE 3.6259\n",
            "Epoch 24: train RMSE 1.9441, test RMSE 3.6850\n",
            "Epoch 25: train RMSE 1.9651, test RMSE 3.7623\n",
            "Epoch 26: train RMSE 1.9545, test RMSE 3.7677\n",
            "Epoch 27: train RMSE 1.9329, test RMSE 3.7793\n",
            "Epoch 28: train RMSE 1.9051, test RMSE 3.6932\n",
            "Epoch 29: train RMSE 1.9139, test RMSE 3.8242\n",
            "Epoch 30: train RMSE 1.8874, test RMSE 3.7417\n",
            "Epoch 31: train RMSE 1.8896, test RMSE 3.7112\n",
            "Epoch 32: train RMSE 1.8786, test RMSE 3.7443\n",
            "Epoch 33: train RMSE 1.8622, test RMSE 3.7248\n",
            "Epoch 34: train RMSE 1.8752, test RMSE 3.8473\n",
            "Epoch 35: train RMSE 1.8432, test RMSE 3.7905\n",
            "Epoch 36: train RMSE 1.8468, test RMSE 3.7366\n",
            "Epoch 37: train RMSE 1.8457, test RMSE 3.8837\n",
            "Epoch 38: train RMSE 1.8016, test RMSE 3.7532\n",
            "Epoch 39: train RMSE 1.8311, test RMSE 3.7488\n",
            "Epoch 40: train RMSE 1.8675, test RMSE 3.7834\n",
            "Epoch 41: train RMSE 1.8032, test RMSE 3.8600\n",
            "Epoch 42: train RMSE 1.7889, test RMSE 3.8324\n",
            "Epoch 43: train RMSE 1.8175, test RMSE 3.7963\n",
            "Epoch 44: train RMSE 1.7674, test RMSE 3.8342\n",
            "Epoch 45: train RMSE 1.7972, test RMSE 3.8724\n",
            "Epoch 46: train RMSE 1.7596, test RMSE 3.8707\n",
            "Epoch 47: train RMSE 1.7742, test RMSE 3.7550\n",
            "Epoch 48: train RMSE 1.7616, test RMSE 3.7605\n",
            "Epoch 49: train RMSE 1.7314, test RMSE 3.8106\n",
            "Epoch 50: train RMSE 1.7571, test RMSE 3.9284\n",
            "Epoch 51: train RMSE 1.7941, test RMSE 3.8883\n",
            "Epoch 52: train RMSE 1.7340, test RMSE 3.9443\n",
            "Epoch 53: train RMSE 1.7248, test RMSE 3.8218\n",
            "Epoch 54: train RMSE 1.7786, test RMSE 4.0042\n",
            "Epoch 55: train RMSE 1.7723, test RMSE 3.7516\n",
            "Epoch 56: train RMSE 1.7068, test RMSE 3.8524\n",
            "Epoch 57: train RMSE 1.6985, test RMSE 3.9239\n",
            "Epoch 58: train RMSE 1.7472, test RMSE 3.8754\n",
            "Epoch 59: train RMSE 1.6940, test RMSE 3.8643\n",
            "Epoch 60: train RMSE 1.7073, test RMSE 3.8026\n",
            "Epoch 61: train RMSE 1.6812, test RMSE 3.9024\n",
            "Epoch 62: train RMSE 1.6613, test RMSE 3.8549\n",
            "Epoch 63: train RMSE 1.6666, test RMSE 3.9262\n",
            "Epoch 64: train RMSE 1.7160, test RMSE 4.0378\n",
            "Epoch 65: train RMSE 1.6686, test RMSE 3.8802\n",
            "Epoch 66: train RMSE 1.6599, test RMSE 3.9328\n",
            "Epoch 67: train RMSE 1.6529, test RMSE 3.8912\n",
            "Epoch 68: train RMSE 1.6636, test RMSE 3.8540\n",
            "Epoch 69: train RMSE 1.6577, test RMSE 3.9053\n",
            "Epoch 70: train RMSE 1.6635, test RMSE 3.9204\n",
            "Epoch 71: train RMSE 1.6556, test RMSE 3.8296\n",
            "Epoch 72: train RMSE 1.6654, test RMSE 3.8924\n",
            "Epoch 73: train RMSE 1.6313, test RMSE 3.7881\n",
            "Epoch 74: train RMSE 1.6160, test RMSE 3.9362\n",
            "Epoch 75: train RMSE 1.6329, test RMSE 3.9375\n",
            "Epoch 76: train RMSE 1.6281, test RMSE 3.8748\n",
            "Epoch 77: train RMSE 1.6266, test RMSE 3.8756\n",
            "Epoch 78: train RMSE 1.6106, test RMSE 3.8968\n",
            "Epoch 79: train RMSE 1.6224, test RMSE 3.8970\n",
            "Epoch 80: train RMSE 1.6206, test RMSE 4.0141\n",
            "Epoch 81: train RMSE 1.5975, test RMSE 3.8958\n",
            "Epoch 82: train RMSE 1.6132, test RMSE 3.9189\n",
            "Epoch 83: train RMSE 1.6317, test RMSE 3.9137\n",
            "Epoch 84: train RMSE 1.6042, test RMSE 3.9966\n",
            "Epoch 85: train RMSE 1.6304, test RMSE 3.9274\n",
            "Epoch 86: train RMSE 1.5926, test RMSE 3.8956\n",
            "Epoch 87: train RMSE 1.6194, test RMSE 3.8884\n",
            "Epoch 88: train RMSE 1.5876, test RMSE 3.8766\n",
            "Epoch 89: train RMSE 1.5709, test RMSE 3.9255\n"
          ]
        },
        {
          "output_type": "error",
          "ename": "KeyboardInterrupt",
          "evalue": "ignored",
          "traceback": [
            "\u001b[0;31m---------------------------------------------------------------------------\u001b[0m",
            "\u001b[0;31mKeyboardInterrupt\u001b[0m                         Traceback (most recent call last)",
            "\u001b[0;32m<ipython-input-45-5b4d83bd7668>\u001b[0m in \u001b[0;36m<cell line: 10>\u001b[0;34m()\u001b[0m\n\u001b[1;32m     11\u001b[0m     \u001b[0mmodel\u001b[0m\u001b[0;34m.\u001b[0m\u001b[0mtrain\u001b[0m\u001b[0;34m(\u001b[0m\u001b[0;34m)\u001b[0m\u001b[0;34m\u001b[0m\u001b[0;34m\u001b[0m\u001b[0m\n\u001b[1;32m     12\u001b[0m     \u001b[0;32mfor\u001b[0m \u001b[0mX_batch\u001b[0m\u001b[0;34m,\u001b[0m \u001b[0my_batch\u001b[0m \u001b[0;32min\u001b[0m \u001b[0mloader\u001b[0m\u001b[0;34m:\u001b[0m\u001b[0;34m\u001b[0m\u001b[0;34m\u001b[0m\u001b[0m\n\u001b[0;32m---> 13\u001b[0;31m         \u001b[0my_pred\u001b[0m \u001b[0;34m=\u001b[0m \u001b[0mmodel\u001b[0m\u001b[0;34m(\u001b[0m\u001b[0mX_batch\u001b[0m\u001b[0;34m)\u001b[0m\u001b[0;34m\u001b[0m\u001b[0;34m\u001b[0m\u001b[0m\n\u001b[0m\u001b[1;32m     14\u001b[0m         \u001b[0mloss\u001b[0m \u001b[0;34m=\u001b[0m \u001b[0mloss_fn\u001b[0m\u001b[0;34m(\u001b[0m\u001b[0my_pred\u001b[0m\u001b[0;34m,\u001b[0m \u001b[0my_batch\u001b[0m\u001b[0;34m)\u001b[0m\u001b[0;34m\u001b[0m\u001b[0;34m\u001b[0m\u001b[0m\n\u001b[1;32m     15\u001b[0m         \u001b[0moptimizer\u001b[0m\u001b[0;34m.\u001b[0m\u001b[0mzero_grad\u001b[0m\u001b[0;34m(\u001b[0m\u001b[0;34m)\u001b[0m\u001b[0;34m\u001b[0m\u001b[0;34m\u001b[0m\u001b[0m\n",
            "\u001b[0;32m/usr/local/lib/python3.10/dist-packages/torch/nn/modules/module.py\u001b[0m in \u001b[0;36m_wrapped_call_impl\u001b[0;34m(self, *args, **kwargs)\u001b[0m\n\u001b[1;32m   1516\u001b[0m             \u001b[0;32mreturn\u001b[0m \u001b[0mself\u001b[0m\u001b[0;34m.\u001b[0m\u001b[0m_compiled_call_impl\u001b[0m\u001b[0;34m(\u001b[0m\u001b[0;34m*\u001b[0m\u001b[0margs\u001b[0m\u001b[0;34m,\u001b[0m \u001b[0;34m**\u001b[0m\u001b[0mkwargs\u001b[0m\u001b[0;34m)\u001b[0m  \u001b[0;31m# type: ignore[misc]\u001b[0m\u001b[0;34m\u001b[0m\u001b[0;34m\u001b[0m\u001b[0m\n\u001b[1;32m   1517\u001b[0m         \u001b[0;32melse\u001b[0m\u001b[0;34m:\u001b[0m\u001b[0;34m\u001b[0m\u001b[0;34m\u001b[0m\u001b[0m\n\u001b[0;32m-> 1518\u001b[0;31m             \u001b[0;32mreturn\u001b[0m \u001b[0mself\u001b[0m\u001b[0;34m.\u001b[0m\u001b[0m_call_impl\u001b[0m\u001b[0;34m(\u001b[0m\u001b[0;34m*\u001b[0m\u001b[0margs\u001b[0m\u001b[0;34m,\u001b[0m \u001b[0;34m**\u001b[0m\u001b[0mkwargs\u001b[0m\u001b[0;34m)\u001b[0m\u001b[0;34m\u001b[0m\u001b[0;34m\u001b[0m\u001b[0m\n\u001b[0m\u001b[1;32m   1519\u001b[0m \u001b[0;34m\u001b[0m\u001b[0m\n\u001b[1;32m   1520\u001b[0m     \u001b[0;32mdef\u001b[0m \u001b[0m_call_impl\u001b[0m\u001b[0;34m(\u001b[0m\u001b[0mself\u001b[0m\u001b[0;34m,\u001b[0m \u001b[0;34m*\u001b[0m\u001b[0margs\u001b[0m\u001b[0;34m,\u001b[0m \u001b[0;34m**\u001b[0m\u001b[0mkwargs\u001b[0m\u001b[0;34m)\u001b[0m\u001b[0;34m:\u001b[0m\u001b[0;34m\u001b[0m\u001b[0;34m\u001b[0m\u001b[0m\n",
            "\u001b[0;32m/usr/local/lib/python3.10/dist-packages/torch/nn/modules/module.py\u001b[0m in \u001b[0;36m_call_impl\u001b[0;34m(self, *args, **kwargs)\u001b[0m\n\u001b[1;32m   1525\u001b[0m                 \u001b[0;32mor\u001b[0m \u001b[0m_global_backward_pre_hooks\u001b[0m \u001b[0;32mor\u001b[0m \u001b[0m_global_backward_hooks\u001b[0m\u001b[0;34m\u001b[0m\u001b[0;34m\u001b[0m\u001b[0m\n\u001b[1;32m   1526\u001b[0m                 or _global_forward_hooks or _global_forward_pre_hooks):\n\u001b[0;32m-> 1527\u001b[0;31m             \u001b[0;32mreturn\u001b[0m \u001b[0mforward_call\u001b[0m\u001b[0;34m(\u001b[0m\u001b[0;34m*\u001b[0m\u001b[0margs\u001b[0m\u001b[0;34m,\u001b[0m \u001b[0;34m**\u001b[0m\u001b[0mkwargs\u001b[0m\u001b[0;34m)\u001b[0m\u001b[0;34m\u001b[0m\u001b[0;34m\u001b[0m\u001b[0m\n\u001b[0m\u001b[1;32m   1528\u001b[0m \u001b[0;34m\u001b[0m\u001b[0m\n\u001b[1;32m   1529\u001b[0m         \u001b[0;32mtry\u001b[0m\u001b[0;34m:\u001b[0m\u001b[0;34m\u001b[0m\u001b[0;34m\u001b[0m\u001b[0m\n",
            "\u001b[0;32m<ipython-input-44-9fd8a69b9ba7>\u001b[0m in \u001b[0;36mforward\u001b[0;34m(self, x)\u001b[0m\n\u001b[1;32m      5\u001b[0m         \u001b[0mself\u001b[0m\u001b[0;34m.\u001b[0m\u001b[0mlinear\u001b[0m \u001b[0;34m=\u001b[0m \u001b[0mnn\u001b[0m\u001b[0;34m.\u001b[0m\u001b[0mLinear\u001b[0m\u001b[0;34m(\u001b[0m\u001b[0;36m100\u001b[0m\u001b[0;34m,\u001b[0m \u001b[0;36m3\u001b[0m\u001b[0;34m)\u001b[0m\u001b[0;34m\u001b[0m\u001b[0;34m\u001b[0m\u001b[0m\n\u001b[1;32m      6\u001b[0m     \u001b[0;32mdef\u001b[0m \u001b[0mforward\u001b[0m\u001b[0;34m(\u001b[0m\u001b[0mself\u001b[0m\u001b[0;34m,\u001b[0m \u001b[0mx\u001b[0m\u001b[0;34m)\u001b[0m\u001b[0;34m:\u001b[0m\u001b[0;34m\u001b[0m\u001b[0;34m\u001b[0m\u001b[0m\n\u001b[0;32m----> 7\u001b[0;31m         \u001b[0mx\u001b[0m\u001b[0;34m,\u001b[0m \u001b[0m_\u001b[0m \u001b[0;34m=\u001b[0m \u001b[0mself\u001b[0m\u001b[0;34m.\u001b[0m\u001b[0mlstm\u001b[0m\u001b[0;34m(\u001b[0m\u001b[0mx\u001b[0m\u001b[0;34m)\u001b[0m\u001b[0;34m\u001b[0m\u001b[0;34m\u001b[0m\u001b[0m\n\u001b[0m\u001b[1;32m      8\u001b[0m         \u001b[0mx\u001b[0m \u001b[0;34m=\u001b[0m \u001b[0mself\u001b[0m\u001b[0;34m.\u001b[0m\u001b[0mlinear\u001b[0m\u001b[0;34m(\u001b[0m\u001b[0mx\u001b[0m\u001b[0;34m)\u001b[0m\u001b[0;34m\u001b[0m\u001b[0;34m\u001b[0m\u001b[0m\n\u001b[1;32m      9\u001b[0m         \u001b[0;32mreturn\u001b[0m \u001b[0mx\u001b[0m\u001b[0;34m\u001b[0m\u001b[0;34m\u001b[0m\u001b[0m\n",
            "\u001b[0;32m/usr/local/lib/python3.10/dist-packages/torch/nn/modules/module.py\u001b[0m in \u001b[0;36m_wrapped_call_impl\u001b[0;34m(self, *args, **kwargs)\u001b[0m\n\u001b[1;32m   1516\u001b[0m             \u001b[0;32mreturn\u001b[0m \u001b[0mself\u001b[0m\u001b[0;34m.\u001b[0m\u001b[0m_compiled_call_impl\u001b[0m\u001b[0;34m(\u001b[0m\u001b[0;34m*\u001b[0m\u001b[0margs\u001b[0m\u001b[0;34m,\u001b[0m \u001b[0;34m**\u001b[0m\u001b[0mkwargs\u001b[0m\u001b[0;34m)\u001b[0m  \u001b[0;31m# type: ignore[misc]\u001b[0m\u001b[0;34m\u001b[0m\u001b[0;34m\u001b[0m\u001b[0m\n\u001b[1;32m   1517\u001b[0m         \u001b[0;32melse\u001b[0m\u001b[0;34m:\u001b[0m\u001b[0;34m\u001b[0m\u001b[0;34m\u001b[0m\u001b[0m\n\u001b[0;32m-> 1518\u001b[0;31m             \u001b[0;32mreturn\u001b[0m \u001b[0mself\u001b[0m\u001b[0;34m.\u001b[0m\u001b[0m_call_impl\u001b[0m\u001b[0;34m(\u001b[0m\u001b[0;34m*\u001b[0m\u001b[0margs\u001b[0m\u001b[0;34m,\u001b[0m \u001b[0;34m**\u001b[0m\u001b[0mkwargs\u001b[0m\u001b[0;34m)\u001b[0m\u001b[0;34m\u001b[0m\u001b[0;34m\u001b[0m\u001b[0m\n\u001b[0m\u001b[1;32m   1519\u001b[0m \u001b[0;34m\u001b[0m\u001b[0m\n\u001b[1;32m   1520\u001b[0m     \u001b[0;32mdef\u001b[0m \u001b[0m_call_impl\u001b[0m\u001b[0;34m(\u001b[0m\u001b[0mself\u001b[0m\u001b[0;34m,\u001b[0m \u001b[0;34m*\u001b[0m\u001b[0margs\u001b[0m\u001b[0;34m,\u001b[0m \u001b[0;34m**\u001b[0m\u001b[0mkwargs\u001b[0m\u001b[0;34m)\u001b[0m\u001b[0;34m:\u001b[0m\u001b[0;34m\u001b[0m\u001b[0;34m\u001b[0m\u001b[0m\n",
            "\u001b[0;32m/usr/local/lib/python3.10/dist-packages/torch/nn/modules/module.py\u001b[0m in \u001b[0;36m_call_impl\u001b[0;34m(self, *args, **kwargs)\u001b[0m\n\u001b[1;32m   1525\u001b[0m                 \u001b[0;32mor\u001b[0m \u001b[0m_global_backward_pre_hooks\u001b[0m \u001b[0;32mor\u001b[0m \u001b[0m_global_backward_hooks\u001b[0m\u001b[0;34m\u001b[0m\u001b[0;34m\u001b[0m\u001b[0m\n\u001b[1;32m   1526\u001b[0m                 or _global_forward_hooks or _global_forward_pre_hooks):\n\u001b[0;32m-> 1527\u001b[0;31m             \u001b[0;32mreturn\u001b[0m \u001b[0mforward_call\u001b[0m\u001b[0;34m(\u001b[0m\u001b[0;34m*\u001b[0m\u001b[0margs\u001b[0m\u001b[0;34m,\u001b[0m \u001b[0;34m**\u001b[0m\u001b[0mkwargs\u001b[0m\u001b[0;34m)\u001b[0m\u001b[0;34m\u001b[0m\u001b[0;34m\u001b[0m\u001b[0m\n\u001b[0m\u001b[1;32m   1528\u001b[0m \u001b[0;34m\u001b[0m\u001b[0m\n\u001b[1;32m   1529\u001b[0m         \u001b[0;32mtry\u001b[0m\u001b[0;34m:\u001b[0m\u001b[0;34m\u001b[0m\u001b[0;34m\u001b[0m\u001b[0m\n",
            "\u001b[0;32m/usr/local/lib/python3.10/dist-packages/torch/nn/modules/rnn.py\u001b[0m in \u001b[0;36mforward\u001b[0;34m(self, input, hx)\u001b[0m\n\u001b[1;32m    877\u001b[0m \u001b[0;34m\u001b[0m\u001b[0m\n\u001b[1;32m    878\u001b[0m         \u001b[0;32mif\u001b[0m \u001b[0mbatch_sizes\u001b[0m \u001b[0;32mis\u001b[0m \u001b[0;32mNone\u001b[0m\u001b[0;34m:\u001b[0m\u001b[0;34m\u001b[0m\u001b[0;34m\u001b[0m\u001b[0m\n\u001b[0;32m--> 879\u001b[0;31m             result = _VF.lstm(input, hx, self._flat_weights, self.bias, self.num_layers,\n\u001b[0m\u001b[1;32m    880\u001b[0m                               self.dropout, self.training, self.bidirectional, self.batch_first)\n\u001b[1;32m    881\u001b[0m         \u001b[0;32melse\u001b[0m\u001b[0;34m:\u001b[0m\u001b[0;34m\u001b[0m\u001b[0;34m\u001b[0m\u001b[0m\n",
            "\u001b[0;31mKeyboardInterrupt\u001b[0m: "
          ]
        }
      ]
    },
    {
      "cell_type": "code",
      "source": [
        "with torch.no_grad():\n",
        "    # shift train predictions for plotting\n",
        "    train_plot = np.ones_like(timeseries) * np.nan\n",
        "    y_pred = model(X_train)\n",
        "    y_pred = y_pred[:, -1, :]\n",
        "    train_plot[lookback:train_size] = model(X_train)[:, -1, :]\n",
        "    # shift test predictions for plotting\n",
        "    test_plot = np.ones_like(timeseries) * np.nan\n",
        "    test_plot[train_size+lookback:len(timeseries)] = model(X_test)[:, -1, :]\n",
        "# plot\n",
        "plt.plot(timeseries, c='b')\n",
        "plt.plot(train_plot, c='r')\n",
        "plt.plot(test_plot, c='g')\n",
        "#plt.xlim(7250, 7750)\n",
        "plt.show()"
      ],
      "metadata": {
        "id": "sHg8EwISvaNk"
      },
      "execution_count": null,
      "outputs": []
    }
  ]
}